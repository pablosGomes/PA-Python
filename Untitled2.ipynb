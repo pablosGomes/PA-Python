{
  "nbformat": 4,
  "nbformat_minor": 0,
  "metadata": {
    "colab": {
      "provenance": [],
      "authorship_tag": "ABX9TyP+Zdudhf3Rhn0SHWsNXnsn",
      "include_colab_link": true
    },
    "kernelspec": {
      "name": "python3",
      "display_name": "Python 3"
    },
    "language_info": {
      "name": "python"
    }
  },
  "cells": [
    {
      "cell_type": "markdown",
      "metadata": {
        "id": "view-in-github",
        "colab_type": "text"
      },
      "source": [
        "<a href=\"https://colab.research.google.com/github/pablosGomes/PA-Python/blob/main/Untitled2.ipynb\" target=\"_parent\"><img src=\"https://colab.research.google.com/assets/colab-badge.svg\" alt=\"Open In Colab\"/></a>"
      ]
    },
    {
      "cell_type": "markdown",
      "source": [
        "1)\tDetector de Fases da Lua (Situação hipotética)\n",
        "Faça um programa que pergunte o dia do mês (1 a 31) Não aceite valores fora desse intervalo.\n",
        "Baseado no dia, informe a provável fase da lua:\n",
        "•  Dia 1 a 7: Lua Nova\n",
        "•  Dia 8 a 14: Quarto Crescente\n",
        "•  Dia 15 a 21: Lua Cheia\n",
        "•  Dia 22 a 29: Quarto Minguante\n",
        "•  Dia 30 ou mais: Início de novo ciclo lunar\n"
      ],
      "metadata": {
        "id": "MDShYgn5D0AG"
      }
    },
    {
      "cell_type": "code",
      "execution_count": null,
      "metadata": {
        "id": "9uXgYlwyDzGn",
        "colab": {
          "base_uri": "https://localhost:8080/",
          "height": 356
        },
        "outputId": "7be76c7e-86ba-466d-cba8-b859075073d3"
      },
      "outputs": [
        {
          "output_type": "error",
          "ename": "KeyboardInterrupt",
          "evalue": "Interrupted by user",
          "traceback": [
            "\u001b[0;31m---------------------------------------------------------------------------\u001b[0m",
            "\u001b[0;31mKeyboardInterrupt\u001b[0m                         Traceback (most recent call last)",
            "\u001b[0;32m<ipython-input-35-636711432>\u001b[0m in \u001b[0;36m<cell line: 0>\u001b[0;34m()\u001b[0m\n\u001b[0;32m----> 1\u001b[0;31m \u001b[0mdia\u001b[0m \u001b[0;34m=\u001b[0m \u001b[0mint\u001b[0m\u001b[0;34m(\u001b[0m\u001b[0minput\u001b[0m\u001b[0;34m(\u001b[0m\u001b[0;34m\"Digite um dia do mês: \"\u001b[0m\u001b[0;34m)\u001b[0m\u001b[0;34m)\u001b[0m\u001b[0;34m\u001b[0m\u001b[0;34m\u001b[0m\u001b[0m\n\u001b[0m\u001b[1;32m      2\u001b[0m \u001b[0;34m\u001b[0m\u001b[0m\n\u001b[1;32m      3\u001b[0m \u001b[0;32mif\u001b[0m \u001b[0mdia\u001b[0m \u001b[0;34m>=\u001b[0m \u001b[0;36m1\u001b[0m \u001b[0;32mand\u001b[0m \u001b[0mdia\u001b[0m \u001b[0;34m<=\u001b[0m \u001b[0;36m31\u001b[0m\u001b[0;34m:\u001b[0m\u001b[0;34m\u001b[0m\u001b[0;34m\u001b[0m\u001b[0m\n\u001b[1;32m      4\u001b[0m   \u001b[0;32mif\u001b[0m \u001b[0mdia\u001b[0m \u001b[0;34m>=\u001b[0m \u001b[0;36m1\u001b[0m \u001b[0;32mand\u001b[0m \u001b[0mdia\u001b[0m \u001b[0;34m<=\u001b[0m \u001b[0;36m7\u001b[0m\u001b[0;34m:\u001b[0m\u001b[0;34m\u001b[0m\u001b[0;34m\u001b[0m\u001b[0m\n\u001b[1;32m      5\u001b[0m     \u001b[0mprint\u001b[0m\u001b[0;34m(\u001b[0m\u001b[0;34m\"É lua nova\"\u001b[0m\u001b[0;34m)\u001b[0m\u001b[0;34m\u001b[0m\u001b[0;34m\u001b[0m\u001b[0m\n",
            "\u001b[0;32m/usr/local/lib/python3.11/dist-packages/ipykernel/kernelbase.py\u001b[0m in \u001b[0;36mraw_input\u001b[0;34m(self, prompt)\u001b[0m\n\u001b[1;32m   1175\u001b[0m                 \u001b[0;34m\"raw_input was called, but this frontend does not support input requests.\"\u001b[0m\u001b[0;34m\u001b[0m\u001b[0;34m\u001b[0m\u001b[0m\n\u001b[1;32m   1176\u001b[0m             )\n\u001b[0;32m-> 1177\u001b[0;31m         return self._input_request(\n\u001b[0m\u001b[1;32m   1178\u001b[0m             \u001b[0mstr\u001b[0m\u001b[0;34m(\u001b[0m\u001b[0mprompt\u001b[0m\u001b[0;34m)\u001b[0m\u001b[0;34m,\u001b[0m\u001b[0;34m\u001b[0m\u001b[0;34m\u001b[0m\u001b[0m\n\u001b[1;32m   1179\u001b[0m             \u001b[0mself\u001b[0m\u001b[0;34m.\u001b[0m\u001b[0m_parent_ident\u001b[0m\u001b[0;34m[\u001b[0m\u001b[0;34m\"shell\"\u001b[0m\u001b[0;34m]\u001b[0m\u001b[0;34m,\u001b[0m\u001b[0;34m\u001b[0m\u001b[0;34m\u001b[0m\u001b[0m\n",
            "\u001b[0;32m/usr/local/lib/python3.11/dist-packages/ipykernel/kernelbase.py\u001b[0m in \u001b[0;36m_input_request\u001b[0;34m(self, prompt, ident, parent, password)\u001b[0m\n\u001b[1;32m   1217\u001b[0m             \u001b[0;32mexcept\u001b[0m \u001b[0mKeyboardInterrupt\u001b[0m\u001b[0;34m:\u001b[0m\u001b[0;34m\u001b[0m\u001b[0;34m\u001b[0m\u001b[0m\n\u001b[1;32m   1218\u001b[0m                 \u001b[0;31m# re-raise KeyboardInterrupt, to truncate traceback\u001b[0m\u001b[0;34m\u001b[0m\u001b[0;34m\u001b[0m\u001b[0m\n\u001b[0;32m-> 1219\u001b[0;31m                 \u001b[0;32mraise\u001b[0m \u001b[0mKeyboardInterrupt\u001b[0m\u001b[0;34m(\u001b[0m\u001b[0;34m\"Interrupted by user\"\u001b[0m\u001b[0;34m)\u001b[0m \u001b[0;32mfrom\u001b[0m \u001b[0;32mNone\u001b[0m\u001b[0;34m\u001b[0m\u001b[0;34m\u001b[0m\u001b[0m\n\u001b[0m\u001b[1;32m   1220\u001b[0m             \u001b[0;32mexcept\u001b[0m \u001b[0mException\u001b[0m\u001b[0;34m:\u001b[0m\u001b[0;34m\u001b[0m\u001b[0;34m\u001b[0m\u001b[0m\n\u001b[1;32m   1221\u001b[0m                 \u001b[0mself\u001b[0m\u001b[0;34m.\u001b[0m\u001b[0mlog\u001b[0m\u001b[0;34m.\u001b[0m\u001b[0mwarning\u001b[0m\u001b[0;34m(\u001b[0m\u001b[0;34m\"Invalid Message:\"\u001b[0m\u001b[0;34m,\u001b[0m \u001b[0mexc_info\u001b[0m\u001b[0;34m=\u001b[0m\u001b[0;32mTrue\u001b[0m\u001b[0;34m)\u001b[0m\u001b[0;34m\u001b[0m\u001b[0;34m\u001b[0m\u001b[0m\n",
            "\u001b[0;31mKeyboardInterrupt\u001b[0m: Interrupted by user"
          ]
        }
      ],
      "source": [
        "dia = int(input(\"Digite um dia do mês: \"))\n",
        "\n",
        "if dia >= 1 and dia <= 31:\n",
        "  if dia >= 1 and dia <= 7:\n",
        "    print(\"É lua nova\")\n",
        "  elif dia >= 8 and dia <= 14:\n",
        "    print(\"É lua quarto crescente\")\n",
        "  elif dia >= 15 and dia<= 21:\n",
        "    print(\"É lua cheia\")\n",
        "  elif dia >= 22 and dia <= 29:\n",
        "    print(\"É lua quarto minguante\")\n",
        "  else:\n",
        "    print(\"Novo ciclo lunar\")\n",
        "else:\n",
        "  print(\"Insira um dia valido\")"
      ]
    },
    {
      "cell_type": "code",
      "source": [
        "energia = int(input(\"Digite sua energia: \"))\n",
        "\n",
        "if energia >= 1 and energia <= 100:\n",
        "  classe = str(input(\"Digite se você é mago, guerreiro ou arqueiro\"))\n",
        "  if classe == \"mago\":\n",
        "    energia = energia * 1.5\n",
        "    if energia > 60:\n",
        "      print(\"Você entrou no jogo com a energia de: \", energia)\n",
        "    else:\n",
        "      print(\"energia insuficiente\")\n",
        "  elif classe == \"guerreiro\":\n",
        "    energia = energia * 2\n",
        "    if energia > 40:\n",
        "      print(\"Você entrou no jogo com a energia de: \", energia)\n",
        "    else:\n",
        "      print(\"energia insuficiente\")\n",
        "  elif classe == \"arqueiro\":\n",
        "    energia = energia * 1.2\n",
        "    if energia > 50:\n",
        "      print(\"Você entrou no jogo com a energia de: \", energia)\n",
        "    else:\n",
        "      print(\"energia insuficiente\")\n",
        "  else:\n",
        "    print(\"classe invalida\")\n",
        "else:\n",
        "  print(\"Insira uma energia valida\")"
      ],
      "metadata": {
        "id": "non3nQZqHKun"
      },
      "execution_count": null,
      "outputs": []
    },
    {
      "cell_type": "code",
      "source": [
        "renda = float(input(\"Digite a sua renda familiar em reais: \"))\n",
        "\n",
        "if renda >0:\n",
        "  if renda >= 1 and renda <= 5000:\n",
        "    escola = str(input(\"Digite se sua escola é particular ou publica\"))\n",
        "    if escola == \"particular\" or escola == \"publica\":\n",
        "      print(\"Primeira etapa comcluida!!\")\n",
        "      matematica = float(input(\"Digite a nota final de matematica!\"))\n",
        "      portugues = float(input(\"Digite a nota final de portugues!\"))\n",
        "      conhecimento = float(input(\"Digite a nota final de conhecimentos gerais!\"))\n",
        "\n",
        "      if portugues and matematica and conhecimento >= 1 and portugues and matematica and conhecimento <= 10:\n",
        "        media = (portugues + matematica + conhecimento)/3\n",
        "        #vericação escola publica\n",
        "        if escola == \"publica\" and media >= 8:\n",
        "          media = media * 0.2\n",
        "          print(\"sua media de escola de publica é\", media)\n",
        "          if renda < 3000:\n",
        "            media = media * 0.35\n",
        "            print(\"sua media de escola publica mais o bonus é:\", media)\n",
        "          else:\n",
        "            print(\"não participa do bonus!\")\n",
        "        elif escola == \"publica\" and media >= 6 and media <8:\n",
        "          media = media * 0.1\n",
        "          if renda < 3000:\n",
        "            media = media * 0.05\n",
        "          else:\n",
        "            print(\"não participa do bonus!\")\n",
        "        elif escola == \"publica\" and media < 6:\n",
        "          print(\"nota insuficiente para continuar!\")\n",
        "\n",
        "        #vericação escola particular\n",
        "        elif escola == \"particular\" and media >= 8:\n",
        "          media = media * 0.05\n",
        "          print(\"sua media de escola de publica é\", media)\n",
        "          if renda < 3000:\n",
        "            media = media * 0.15\n",
        "            print(\"sua media de escola publica mais o bonus é:\", media)\n",
        "          else:\n",
        "            print(\"não participa do bonus!\")\n",
        "        elif escola == \"particular\" and media >= 6 and media <8:\n",
        "          media = media * 0.025\n",
        "          if renda < 3000:\n",
        "            media = media * 0.02\n",
        "          else:\n",
        "            print(\"não participa do bonus!\")\n",
        "        elif escola == \"publica\" and media < 6:\n",
        "          print(\"nota insuficiente para continuar!\")\n",
        "      else:\n",
        "        print(\"valor invalido\")\n",
        "    else:\n",
        "      print(\"valor invalido\")\n",
        "  else:\n",
        "    print(\"essa renda não participa da bolsa!\")\n",
        "else:\n",
        "  print(\"valor invalido\")\n"
      ],
      "metadata": {
        "id": "Gq0e9uDNM4JF",
        "colab": {
          "base_uri": "https://localhost:8080/"
        },
        "outputId": "98bd4894-d2a4-40d3-ed31-e5f5428fa242"
      },
      "execution_count": null,
      "outputs": [
        {
          "output_type": "stream",
          "name": "stdout",
          "text": [
            "Digite a sua renda familiar em reais: 4000\n",
            "Digite se sua escola é particular ou publicapublica\n",
            "Primeira etapa comcluida!!\n",
            "Digite a nota final de matematica!10\n",
            "Digite a nota final de portugues!10\n",
            "Digite a nota final de conhecimentos gerais!10\n",
            "sua media de escola de publica é 2.0\n",
            "não participa do bonus!\n"
          ]
        }
      ]
    },
    {
      "cell_type": "code",
      "source": [],
      "metadata": {
        "id": "BH4FP7gwP92s"
      },
      "execution_count": null,
      "outputs": []
    },
    {
      "cell_type": "code",
      "source": [],
      "metadata": {
        "id": "ocLcMxHOSBiW"
      },
      "execution_count": null,
      "outputs": []
    }
  ]
}