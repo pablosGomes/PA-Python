{
  "nbformat": 4,
  "nbformat_minor": 0,
  "metadata": {
    "colab": {
      "provenance": [],
      "authorship_tag": "ABX9TyP0wYOuIOpgz7PgYZsSgdu/",
      "include_colab_link": true
    },
    "kernelspec": {
      "name": "python3",
      "display_name": "Python 3"
    },
    "language_info": {
      "name": "python"
    }
  },
  "cells": [
    {
      "cell_type": "markdown",
      "metadata": {
        "id": "view-in-github",
        "colab_type": "text"
      },
      "source": [
        "<a href=\"https://colab.research.google.com/github/cintiapinho/PA-Prog_e_Algorit-1C_1F_2025/blob/main/variaveiseoperadoresaritmeticos1f/variaveisecontantes.ipynb\" target=\"_parent\"><img src=\"https://colab.research.google.com/assets/colab-badge.svg\" alt=\"Open In Colab\"/></a>"
      ]
    },
    {
      "cell_type": "markdown",
      "source": [
        "# Variáveis e Constantes"
      ],
      "metadata": {
        "id": "uebaBvlVgRK_"
      }
    },
    {
      "cell_type": "code",
      "execution_count": 9,
      "metadata": {
        "id": "ttSBt2Y1f9kz"
      },
      "outputs": [],
      "source": [
        "idade = 43\n",
        "altura = 1.52\n",
        "nome = \"Cíntia Pinho\"\n",
        "vai = True"
      ]
    },
    {
      "cell_type": "code",
      "source": [
        "nome"
      ],
      "metadata": {
        "colab": {
          "base_uri": "https://localhost:8080/",
          "height": 35
        },
        "id": "8_Cr-v9QioPy",
        "outputId": "6706b262-a66e-4064-bd47-2891e5240dde"
      },
      "execution_count": 2,
      "outputs": [
        {
          "output_type": "execute_result",
          "data": {
            "text/plain": [
              "'Cíntia Pinho'"
            ],
            "application/vnd.google.colaboratory.intrinsic+json": {
              "type": "string"
            }
          },
          "metadata": {},
          "execution_count": 2
        }
      ]
    },
    {
      "cell_type": "code",
      "source": [
        "nome=\"Tereza\""
      ],
      "metadata": {
        "id": "-JXQBg3Oh070"
      },
      "execution_count": 3,
      "outputs": []
    },
    {
      "cell_type": "code",
      "source": [
        "print(nome)"
      ],
      "metadata": {
        "colab": {
          "base_uri": "https://localhost:8080/"
        },
        "id": "9XASDNejh5z6",
        "outputId": "e89f0ce0-fce1-4e52-aecc-9527babfc05b"
      },
      "execution_count": 4,
      "outputs": [
        {
          "output_type": "stream",
          "name": "stdout",
          "text": [
            "Tereza\n"
          ]
        }
      ]
    },
    {
      "cell_type": "code",
      "source": [
        "nomes = [\"Cíntia Pinho\",\"Tereza\",\"Alberto\",\"Roberto\"]\n",
        "nomes2 = (\"Juliana\",\"Juliana\",\"Sérgio\",\"Carmelinda\")\n",
        "tudo = {nome:\"Cíntia Pinho\",idade: 42, altura:1.52}"
      ],
      "metadata": {
        "id": "YW8JNdSNiXeI"
      },
      "execution_count": 5,
      "outputs": []
    },
    {
      "cell_type": "code",
      "source": [
        "print(nome)\n",
        "print(nomes)\n",
        "print(nomes2)\n",
        "print(tudo)"
      ],
      "metadata": {
        "colab": {
          "base_uri": "https://localhost:8080/"
        },
        "id": "dGjGJnTFjLJ-",
        "outputId": "4c934ce4-478e-4b86-cb24-0d51d8fa1e48"
      },
      "execution_count": 6,
      "outputs": [
        {
          "output_type": "stream",
          "name": "stdout",
          "text": [
            "Tereza\n",
            "['Cíntia Pinho', 'Tereza', 'Alberto', 'Roberto']\n",
            "('Juliana', 'Juliana', 'Sérgio', 'Carmelinda')\n",
            "{'Tereza': 'Cíntia Pinho', 43: 42, 1.52: 1.52}\n"
          ]
        }
      ]
    },
    {
      "cell_type": "code",
      "source": [
        "print(type(idade))\n",
        "print(type(altura))\n",
        "print(type(vai))\n",
        "print(type(nome))\n",
        "print(type(nomes))\n",
        "print(type(nomes2))\n",
        "print(type(tudo))"
      ],
      "metadata": {
        "colab": {
          "base_uri": "https://localhost:8080/"
        },
        "id": "6xXadO9IkGBv",
        "outputId": "95686fb8-d229-4c8d-a3ac-fd5d0febe527"
      },
      "execution_count": 7,
      "outputs": [
        {
          "output_type": "stream",
          "name": "stdout",
          "text": [
            "<class 'int'>\n",
            "<class 'float'>\n",
            "<class 'bool'>\n",
            "<class 'str'>\n",
            "<class 'list'>\n",
            "<class 'tuple'>\n",
            "<class 'dict'>\n"
          ]
        }
      ]
    },
    {
      "cell_type": "code",
      "source": [
        "set(nomes2)"
      ],
      "metadata": {
        "colab": {
          "base_uri": "https://localhost:8080/"
        },
        "id": "35SnYxrHmZo1",
        "outputId": "3564b4cf-8230-41a2-fa62-04aacf9cd580"
      },
      "execution_count": 8,
      "outputs": [
        {
          "output_type": "execute_result",
          "data": {
            "text/plain": [
              "{'Carmelinda', 'Juliana', 'Sérgio'}"
            ]
          },
          "metadata": {},
          "execution_count": 8
        }
      ]
    },
    {
      "cell_type": "code",
      "source": [
        "print(\"O nome dela é:\", nome, \", sua idade é:\", idade, \", ela tem\", altura,\" metros de altura\" )"
      ],
      "metadata": {
        "colab": {
          "base_uri": "https://localhost:8080/"
        },
        "id": "_gnFGLljpMrU",
        "outputId": "55e1dac3-166f-4cee-9669-3dde5ecc4446"
      },
      "execution_count": 10,
      "outputs": [
        {
          "output_type": "stream",
          "name": "stdout",
          "text": [
            "O nome dela é: Cíntia Pinho , sua idade é: 43 , ela tem 1.52  metros de altura\n"
          ]
        }
      ]
    },
    {
      "cell_type": "code",
      "source": [
        "print(f\"O nome dela é : {nome}. A Altura dela é:{altura}\")"
      ],
      "metadata": {
        "colab": {
          "base_uri": "https://localhost:8080/"
        },
        "id": "mh4kR1FIpfcm",
        "outputId": "9946b1ff-0e00-4371-f3b9-7b105709e6fa"
      },
      "execution_count": null,
      "outputs": [
        {
          "output_type": "stream",
          "name": "stdout",
          "text": [
            "O nome dela é : Tereza. A Altura dela é:1.52\n"
          ]
        }
      ]
    },
    {
      "cell_type": "markdown",
      "source": [
        "# Área do Círculo"
      ],
      "metadata": {
        "id": "IQTH9lsdix1W"
      }
    },
    {
      "cell_type": "code",
      "source": [
        "#entrada\n",
        "raio = float(input(\"Digite o valor do raio do círculo: \"))"
      ],
      "metadata": {
        "colab": {
          "base_uri": "https://localhost:8080/"
        },
        "id": "gu4pEYlivd_U",
        "outputId": "e9e0c1eb-0068-4565-f102-4e59de73ccd5"
      },
      "execution_count": 11,
      "outputs": [
        {
          "name": "stdout",
          "output_type": "stream",
          "text": [
            "Digite o valor do raio do círculo: 100\n"
          ]
        }
      ]
    },
    {
      "cell_type": "code",
      "source": [
        "#processamento\n",
        "areacir = 3.14159 * (raio**2)"
      ],
      "metadata": {
        "id": "GZ4AL8DawBCB"
      },
      "execution_count": 12,
      "outputs": []
    },
    {
      "cell_type": "code",
      "source": [
        "#saida\n",
        "print(f\"A área do círculo é {areacir}\")"
      ],
      "metadata": {
        "colab": {
          "base_uri": "https://localhost:8080/"
        },
        "id": "E92rnsGywkD2",
        "outputId": "64f443a6-b7aa-4fba-aa07-6840c218219c"
      },
      "execution_count": 13,
      "outputs": [
        {
          "output_type": "stream",
          "name": "stdout",
          "text": [
            "A área do círculo é 31415.899999999998\n"
          ]
        }
      ]
    },
    {
      "cell_type": "markdown",
      "source": [
        "Área do quadrado"
      ],
      "metadata": {
        "id": "N1EECt9Pzu-b"
      }
    },
    {
      "cell_type": "code",
      "source": [
        "#entrada\n",
        "lado = float(input(\"Qual o lado do quadrado?\"))"
      ],
      "metadata": {
        "id": "esmDgdr7zxDS",
        "colab": {
          "base_uri": "https://localhost:8080/"
        },
        "outputId": "b438ae54-b38a-4ff3-bd07-713438dd00b5"
      },
      "execution_count": 29,
      "outputs": [
        {
          "name": "stdout",
          "output_type": "stream",
          "text": [
            "Qual o lado do quadrado?5.24\n"
          ]
        }
      ]
    },
    {
      "cell_type": "code",
      "source": [
        "#processamento\n",
        "areaqua= lado**2"
      ],
      "metadata": {
        "id": "bdCRZTGA3kMz"
      },
      "execution_count": 30,
      "outputs": []
    },
    {
      "cell_type": "code",
      "source": [
        "#saida\n",
        "print(f\"A área do Quadrado é: {areaqua:.2f}\")"
      ],
      "metadata": {
        "colab": {
          "base_uri": "https://localhost:8080/"
        },
        "id": "kAlM7mNTlUcL",
        "outputId": "743df044-68fd-4d12-9475-b5275cac55e8"
      },
      "execution_count": 32,
      "outputs": [
        {
          "output_type": "stream",
          "name": "stdout",
          "text": [
            "A área do Quadrado é: 27.46\n"
          ]
        }
      ]
    },
    {
      "cell_type": "markdown",
      "source": [
        "# Exercícios"
      ],
      "metadata": {
        "id": "LT3VMIsroZSm"
      }
    },
    {
      "cell_type": "markdown",
      "source": [
        "## Exercício 1 - Área do Retângulo\n",
        "\n",
        "Crie um programa que calcule a área de um retângulo usando uma constante para representar a base.\n",
        "\n",
        " Fórmula: A = base × altura"
      ],
      "metadata": {
        "id": "Qa5hNdM4obum"
      }
    },
    {
      "cell_type": "code",
      "source": [],
      "metadata": {
        "id": "SNJfAwPiohf1"
      },
      "execution_count": null,
      "outputs": []
    }
  ]
}