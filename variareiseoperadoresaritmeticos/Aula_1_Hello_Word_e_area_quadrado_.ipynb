{
  "nbformat": 4,
  "nbformat_minor": 0,
  "metadata": {
    "colab": {
      "provenance": [],
      "authorship_tag": "ABX9TyPdn+rRZI7UsQcPRvzXggm1",
      "include_colab_link": true
    },
    "kernelspec": {
      "name": "python3",
      "display_name": "Python 3"
    },
    "language_info": {
      "name": "python"
    }
  },
  "cells": [
    {
      "cell_type": "markdown",
      "metadata": {
        "id": "view-in-github",
        "colab_type": "text"
      },
      "source": [
        "<a href=\"https://colab.research.google.com/github/cintiapinho/PA-Prog_e_Algorit-1C_1F_2025/blob/main/variareiseoperadoresaritmeticos/Aula_1_Hello_Word_e_area_quadrado_.ipynb\" target=\"_parent\"><img src=\"https://colab.research.google.com/assets/colab-badge.svg\" alt=\"Open In Colab\"/></a>"
      ]
    },
    {
      "cell_type": "markdown",
      "source": [
        "# Inicio"
      ],
      "metadata": {
        "id": "K3uyJ0k0BAWM"
      }
    },
    {
      "cell_type": "code",
      "execution_count": null,
      "metadata": {
        "id": "G9jRydjDA26c"
      },
      "outputs": [],
      "source": [
        "#entrada\n",
        "oi = \"Hello World!\""
      ]
    },
    {
      "cell_type": "code",
      "source": [
        "#saida\n",
        "print(oi)"
      ],
      "metadata": {
        "colab": {
          "base_uri": "https://localhost:8080/"
        },
        "id": "YKtDhjuLBNFz",
        "outputId": "f22c32e0-7996-46ea-c4f1-b4df5c5941bf"
      },
      "execution_count": null,
      "outputs": [
        {
          "output_type": "stream",
          "name": "stdout",
          "text": [
            "Hello World!\n"
          ]
        }
      ]
    },
    {
      "cell_type": "markdown",
      "source": [
        "## Área do Quadrado"
      ],
      "metadata": {
        "id": "L3UQv3a2BYY_"
      }
    },
    {
      "cell_type": "code",
      "source": [
        "# entrada\n",
        "lado = 4\n",
        "# processamento\n",
        "area = lado * lado\n",
        "# saida\n",
        "print(\"O lado do Quadrado é: \",area)"
      ],
      "metadata": {
        "colab": {
          "base_uri": "https://localhost:8080/"
        },
        "id": "9nuQbGecBac4",
        "outputId": "925f2197-b7d8-41af-867e-bcf4abd2334d"
      },
      "execution_count": null,
      "outputs": [
        {
          "output_type": "stream",
          "name": "stdout",
          "text": [
            "O lado do Quadrado é:  16\n"
          ]
        }
      ]
    }
  ]
}