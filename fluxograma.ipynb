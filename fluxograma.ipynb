{
  "nbformat": 4,
  "nbformat_minor": 0,
  "metadata": {
    "colab": {
      "provenance": [],
      "authorship_tag": "ABX9TyOL0s5u31woa3XNE7E0CLIH",
      "include_colab_link": true
    },
    "kernelspec": {
      "name": "python3",
      "display_name": "Python 3"
    },
    "language_info": {
      "name": "python"
    }
  },
  "cells": [
    {
      "cell_type": "markdown",
      "metadata": {
        "id": "view-in-github",
        "colab_type": "text"
      },
      "source": [
        "<a href=\"https://colab.research.google.com/github/pablosGomes/PA-Python/blob/main/fluxograma.ipynb\" target=\"_parent\"><img src=\"https://colab.research.google.com/assets/colab-badge.svg\" alt=\"Open In Colab\"/></a>"
      ]
    },
    {
      "cell_type": "markdown",
      "source": [
        "## atividade 1"
      ],
      "metadata": {
        "id": "Qdd3VJygG75W"
      }
    },
    {
      "cell_type": "code",
      "execution_count": 32,
      "metadata": {
        "colab": {
          "base_uri": "https://localhost:8080/"
        },
        "id": "-bKzS5KkvAaN",
        "outputId": "fdeccab7-d843-40b6-f133-e79f95495a13"
      },
      "outputs": [
        {
          "output_type": "stream",
          "name": "stdout",
          "text": [
            "digite o valor do carro de fabrica: 25000\n",
            "o valor final do carro é 43250.0\n"
          ]
        }
      ],
      "source": [
        "valor_carro = float(input(\"digite o valor do carro de fabrica: \"))\n",
        "\n",
        "imposto = valor_carro * 45 / 100 + valor_carro\n",
        "\n",
        "distribuicao = valor_carro * 28 / 100 + imposto\n",
        "\n",
        "print(f\"o valor final do carro é {distribuicao}\")"
      ]
    },
    {
      "cell_type": "markdown",
      "source": [
        "## atividade 2\n"
      ],
      "metadata": {
        "id": "EXgdzSxOLjOW"
      }
    },
    {
      "cell_type": "code",
      "source": [
        "horas = float(input(\"que horas são? \"))\n",
        "minutos = float(input(\"que minutos são? \"))\n",
        "\n",
        "decimal = minutos / 60\n",
        "\n",
        "print(horas + decimal)"
      ],
      "metadata": {
        "colab": {
          "base_uri": "https://localhost:8080/"
        },
        "id": "dpJLx4-4Loo5",
        "outputId": "b036cebf-37c4-4f34-c571-a22a6dbd53b8"
      },
      "execution_count": 34,
      "outputs": [
        {
          "output_type": "stream",
          "name": "stdout",
          "text": [
            "que horas são? 4\n",
            "que minutos são?23\n",
            "4.383333333333334\n"
          ]
        }
      ]
    },
    {
      "cell_type": "markdown",
      "source": [
        "## atividade 3"
      ],
      "metadata": {
        "id": "RtIG4lLSQ6a8"
      }
    },
    {
      "cell_type": "code",
      "source": [
        "horas = float(input(\"quantas horas trabalhou? \"))\n",
        "minutos = float(input(\"quantos minutos trabalhou? \"))\n",
        "\n",
        "decimal = minutos / 60\n",
        "ganho_hora = float(input(\"quanto você ganha por hora? \"))\n",
        "\n",
        "conver = horas + decimal\n",
        "\n",
        "salario = conver * ganho_hora\n",
        "adicional = salario * 70 / 100 + salario\n",
        "\n",
        "print(adicional)"
      ],
      "metadata": {
        "colab": {
          "base_uri": "https://localhost:8080/"
        },
        "id": "TaoTAX_IQ-GT",
        "outputId": "616f7599-aef0-459a-9f8b-8e1cf0604412"
      },
      "execution_count": 35,
      "outputs": [
        {
          "output_type": "stream",
          "name": "stdout",
          "text": [
            "quantas horas trabalhou? 15\n",
            "quantos minutos trabalhou? 45\n",
            "quanto você ganha por hora? 25\n",
            "669.375\n"
          ]
        }
      ]
    }
  ]
}